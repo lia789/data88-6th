{
 "cells": [
  {
   "cell_type": "code",
   "execution_count": 23,
   "metadata": {},
   "outputs": [
    {
     "name": "stdout",
     "output_type": "stream",
     "text": [
      "====== 1 ========\n"
     ]
    }
   ],
   "source": [
    "import csv\n",
    "from parsel import Selector\n",
    "\n",
    "\n",
    "html = input()\n",
    "response = Selector(text=html)\n",
    "\n",
    "data = []\n",
    "\n",
    "\n",
    "branch_item = response.xpath(\"//div[@class='branch-item-wrapper visibleBranch']\")\n",
    "for branch in branch_item:\n",
    "    _01_category = \"Local Bank\"\n",
    "    _02_state = \"Kuala Lumpur\"\n",
    "    _03_branch_name = branch.xpath(\".//p[@class='branch-title text-blue mt-auto']/text()\").get()\n",
    "    _04_address = branch.xpath(\"(.//p[@class='branch-details']/text())[2]\").get()\n",
    "    #_5\n",
    "    #_6\n",
    "    _07_google_map_url = branch.xpath(\".//div[@class='text-right mt-auto branch-btm-btn']//a[@class='icon-img']/@href\").get()\n",
    "    _08_bank_data_url = \"https://www.affinalways.com/en/branch-locator\"\n",
    "    _10_mother_bank_name = \"Affin\"\n",
    "\n",
    "\n",
    "\n",
    "    _09_bank_type = \"Affin Mobile Financial Centre\"  ###### I have to change this ##########\n",
    "\n",
    "\n",
    "\n",
    "\n",
    "\n",
    "    data_dic = {\n",
    "        \"_01_category\": _01_category,\n",
    "        \"_02_state\": _02_state,\n",
    "        \"_03_branch_name\": _03_branch_name,\n",
    "        \"_04_address\": _04_address,\n",
    "        # \"_05_latitude\": _05_latitude,\n",
    "        # \"_06_longitude\": _06_longitude,\n",
    "        \"_07_google_map_url\": _07_google_map_url,\n",
    "        \"_08_bank_data_url\": _08_bank_data_url, \n",
    "        \"_09_bank_type\": _09_bank_type,\n",
    "        \"_11_mother_bank_name\": _10_mother_bank_name,\n",
    "    }\n",
    "\n",
    "    data.append(data_dic)\n",
    "\n",
    "\n",
    "print(f\"====== {len(data)} ========\")\n",
    "\n",
    "\n",
    "csv_filename = '_01_affinalways.csv'                             \n",
    "field_names = data[0].keys() if data else []\n",
    "with open(csv_filename, 'a', newline='') as file:\n",
    "    writer = csv.DictWriter(file, fieldnames=field_names)\n",
    "    # writer.writeheader()\n",
    "    writer.writerows(data)"
   ]
  },
  {
   "cell_type": "code",
   "execution_count": null,
   "metadata": {},
   "outputs": [],
   "source": []
  }
 ],
 "metadata": {
  "kernelspec": {
   "display_name": "env",
   "language": "python",
   "name": "python3"
  },
  "language_info": {
   "codemirror_mode": {
    "name": "ipython",
    "version": 3
   },
   "file_extension": ".py",
   "mimetype": "text/x-python",
   "name": "python",
   "nbconvert_exporter": "python",
   "pygments_lexer": "ipython3",
   "version": "3.10.12"
  },
  "orig_nbformat": 4
 },
 "nbformat": 4,
 "nbformat_minor": 2
}
