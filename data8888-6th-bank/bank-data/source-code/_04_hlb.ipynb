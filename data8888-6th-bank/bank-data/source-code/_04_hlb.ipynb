{
 "cells": [
  {
   "cell_type": "code",
   "execution_count": 1,
   "metadata": {},
   "outputs": [],
   "source": [
    "import csv\n",
    "from parsel import Selector"
   ]
  },
  {
   "cell_type": "code",
   "execution_count": 2,
   "metadata": {},
   "outputs": [],
   "source": [
    "html = input()\n",
    "response = Selector(text=html)"
   ]
  },
  {
   "cell_type": "code",
   "execution_count": 3,
   "metadata": {},
   "outputs": [
    {
     "name": "stdout",
     "output_type": "stream",
     "text": [
      "====== 12 ========\n"
     ]
    }
   ],
   "source": [
    "csv_filename = '_04_hlb.csv' \n",
    "\n",
    "data = []\n",
    "table = response.xpath(\"//div[@id='branchLocatorList']/div[@class='col-md-4 col-sm-6 col-xs-12 branch-item']\")\n",
    "\n",
    "for td in table:\n",
    "    _03_branch_name = td.xpath(\"normalize-space(.//div[@class='branch-item-section']/h5/text())\").get()\n",
    "    _04_address = td.xpath(\"normalize-space(.//div[@class='branch-item-section']/h5/../text()[2])\").get()\n",
    "    _07_google_map_url = None\n",
    "\n",
    "    \n",
    "\n",
    "    _01_category = \"Local Bank\"\n",
    "    _02_state = \"Selangor\" # Kuala Lumpur | Selangor\n",
    "    _08_bank_data_url = \"https://www.hlb.com.my/en/personal-banking/help-support/branch-locator.html\"\n",
    "    _10_mother_bank_name = \"Hong Leong Bank\"\n",
    "    _09_bank_type = \"ATM\"\n",
    "    \n",
    "\n",
    "\n",
    "\n",
    "\n",
    "    data_dic = {\n",
    "        \"_01_category\": _01_category,\n",
    "        \"_02_state\": _02_state,\n",
    "        \"_03_branch_name\": _03_branch_name,\n",
    "        \"_04_address\": _04_address,\n",
    "        # \"_05_latitude\": _05_latitude,\n",
    "        # \"_06_longitude\": _06_longitude,\n",
    "        \"_07_google_map_url\": _07_google_map_url,\n",
    "        \"_08_bank_data_url\": _08_bank_data_url, \n",
    "        \"_09_bank_type\": _09_bank_type,\n",
    "        \"_11_mother_bank_name\": _10_mother_bank_name,\n",
    "    }\n",
    "\n",
    "    data.append(data_dic)\n",
    "\n",
    "\n",
    "print(f\"====== {len(data)} ========\")\n",
    "\n",
    "\n",
    "                            \n",
    "field_names = data[0].keys() if data else []\n",
    "with open(csv_filename, 'a', newline='') as file:\n",
    "    writer = csv.DictWriter(file, fieldnames=field_names)\n",
    "    # writer.writeheader()\n",
    "    writer.writerows(data)"
   ]
  },
  {
   "cell_type": "code",
   "execution_count": null,
   "metadata": {},
   "outputs": [],
   "source": []
  }
 ],
 "metadata": {
  "kernelspec": {
   "display_name": "env",
   "language": "python",
   "name": "python3"
  },
  "language_info": {
   "codemirror_mode": {
    "name": "ipython",
    "version": 3
   },
   "file_extension": ".py",
   "mimetype": "text/x-python",
   "name": "python",
   "nbconvert_exporter": "python",
   "pygments_lexer": "ipython3",
   "version": "3.10.12"
  },
  "orig_nbformat": 4
 },
 "nbformat": 4,
 "nbformat_minor": 2
}
