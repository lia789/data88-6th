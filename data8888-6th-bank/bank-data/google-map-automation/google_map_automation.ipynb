{
 "cells": [
  {
   "cell_type": "raw",
   "id": "013c6761-e67d-4059-8eb8-89221ff91fde",
   "metadata": {},
   "source": [
    "\"\"\"\n",
    "Login ID: sakib.all.hanan.0@gmail.com\n",
    "Password: sakib001@Sakib\n",
    "\"\"\""
   ]
  },
  {
   "cell_type": "code",
   "execution_count": null,
   "id": "88765705-36d3-45f1-9e9d-c01865a624e5",
   "metadata": {
    "tags": []
   },
   "outputs": [],
   "source": [
    "import re\n",
    "import csv\n",
    "import time\n",
    "from playwright.async_api import async_playwright\n",
    "from parsel import Selector"
   ]
  },
  {
   "cell_type": "code",
   "execution_count": null,
   "id": "ceb02063-9b2d-4571-9306-0e6e5b9d94cf",
   "metadata": {
    "tags": []
   },
   "outputs": [],
   "source": [
    "playwright = await async_playwright().start()\n",
    "\n",
    "browser = await playwright.chromium.launch(\n",
    "    headless=False,\n",
    "    channel=\"chrome\",\n",
    "    args=[\"--disable-blink-features\", \"--disable-blink-features=AutomationControlled\"],\n",
    ")\n",
    "\n",
    "\n",
    "context = await browser.new_context(\n",
    "    user_agent=\"Mozilla/5.0 (X11; Linux x86_64) AppleWebKit/537.36 (KHTML, like Gecko) Chrome/116.0.0.0 Safari/537.36\",\n",
    ")\n",
    "\n",
    "page = await context.new_page()\n",
    "page.set_default_timeout(3000)\n",
    "\n",
    "\n",
    "\n",
    "\n",
    "def extract_lat_long(url):\n",
    "    pattern = r'@(-?\\d+\\.\\d+),(-?\\d+\\.\\d+)'\n",
    "    match = re.search(pattern, url)\n",
    "    if match:\n",
    "        lat, long = match.groups()\n",
    "        lat, long = float(lat), float(long)\n",
    "        return lat, long\n",
    "    else:\n",
    "        return None, None\n",
    "\n",
    "\n",
    "\n",
    "await page.goto(\"https://www.google.com/maps\")\n",
    "\n",
    "\n",
    "print(\"========== Code executed ============\")"
   ]
  },
  {
   "cell_type": "code",
   "execution_count": 3,
   "id": "7462a4e3",
   "metadata": {},
   "outputs": [
    {
     "name": "stdout",
     "output_type": "stream",
     "text": [
      "101\n"
     ]
    }
   ],
   "source": [
    "urls_data = []\n",
    "\n",
    "with open('120.csv', 'r') as f: \n",
    "    reader = csv.DictReader(f)\n",
    "    for row in reader:\n",
    "        _01_category = row['_01_category']\n",
    "        _02_state = row['_02_state']\n",
    "        _03_branch_name = row['_03_branch_name']\n",
    "        _04_address = row['_04_address']\n",
    "        # _05_latitude\n",
    "        # _06_longitude\n",
    "        _07_bank_type = row['_09_bank_type']\n",
    "        _08_mother_bank_name = row['_11_mother_bank_name']\n",
    "\n",
    "        _07_google_map_url = row['_07_google_map_url']\n",
    "\n",
    "        urls_data.append({\n",
    "            \"_01_category\": _01_category,\n",
    "            \"_02_state\": _02_state,\n",
    "            \"_03_branch_name\": _03_branch_name,\n",
    "            \"_04_address\": _04_address,\n",
    "            \"_07_bank_type\": _07_bank_type,\n",
    "            \"_08_mother_bank_name\": _08_mother_bank_name,\n",
    "            \"_07_google_map_url\": _07_google_map_url\n",
    "        })\n",
    "\n",
    "print(len(urls_data))\n",
    "# test_urls_data = urls_data[334:]\n",
    "# print(len(test_urls_data))"
   ]
  },
  {
   "cell_type": "code",
   "execution_count": 4,
   "id": "b66366f8",
   "metadata": {},
   "outputs": [
    {
     "name": "stdout",
     "output_type": "stream",
     "text": [
      "Processing profile 101..."
     ]
    }
   ],
   "source": [
    "data = []\n",
    "count = 1\n",
    "\n",
    "for row in urls_data:\n",
    "    _01_category = row['_01_category']\n",
    "    _02_state = row['_02_state']\n",
    "    _03_branch_name = row['_03_branch_name']\n",
    "    _04_address = row['_04_address']\n",
    "    _07_bank_type = row['_07_bank_type']\n",
    "    _08_mother_bank_name = row['_08_mother_bank_name']\n",
    "    _07_google_map_url = row['_07_google_map_url']\n",
    "\n",
    "    \n",
    "\n",
    "    # Playwright code\n",
    "    try:\n",
    "        await page.goto(_07_google_map_url)\n",
    "    except:\n",
    "        g = 5\n",
    "    await page.wait_for_timeout(1000)\n",
    "    _05_latitude, _06_longitude = extract_lat_long(page.url)\n",
    "\n",
    "\n",
    "    meta_dic = {\n",
    "        \"_01_category\": _01_category,\n",
    "        \"_02_state\": _02_state,\n",
    "        \"_03_branch_name\": _03_branch_name,\n",
    "        \"_04_address\": _04_address,\n",
    "        \"_05_latitude\": _05_latitude,\n",
    "        \"_06_longitude\": _06_longitude,\n",
    "        \"_07_bank_type\": _07_bank_type,\n",
    "        \"_08_mother_bank_name\": _08_mother_bank_name,\n",
    "    }\n",
    "\n",
    "    data.append(meta_dic)\n",
    "\n",
    "    print(f\"\\rProcessing profile {count}...\", end=\"\")\n",
    "    count += 1\n",
    "    "
   ]
  },
  {
   "cell_type": "code",
   "execution_count": 5,
   "id": "7c04808c",
   "metadata": {},
   "outputs": [],
   "source": [
    "csv_filename = 'lat-long-2.csv'\n",
    "\n",
    "field_names = data[0].keys() if data else []\n",
    "with open(csv_filename, 'a', newline='') as file:\n",
    "    writer = csv.DictWriter(file, fieldnames=field_names)\n",
    "    writer.writeheader()\n",
    "    writer.writerows(data)"
   ]
  },
  {
   "cell_type": "code",
   "execution_count": null,
   "id": "8928a306",
   "metadata": {},
   "outputs": [],
   "source": []
  }
 ],
 "metadata": {
  "kernelspec": {
   "display_name": "env",
   "language": "python",
   "name": "python3"
  },
  "language_info": {
   "codemirror_mode": {
    "name": "ipython",
    "version": 3
   },
   "file_extension": ".py",
   "mimetype": "text/x-python",
   "name": "python",
   "nbconvert_exporter": "python",
   "pygments_lexer": "ipython3",
   "version": "3.10.12"
  }
 },
 "nbformat": 4,
 "nbformat_minor": 5
}
