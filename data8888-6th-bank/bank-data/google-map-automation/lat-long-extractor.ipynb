{
 "cells": [
  {
   "cell_type": "raw",
   "id": "013c6761-e67d-4059-8eb8-89221ff91fde",
   "metadata": {},
   "source": [
    "\"\"\"\n",
    "Login ID: sakib.all.hanan.0@gmail.com\n",
    "Password: sakib001@Sakib\n",
    "\"\"\""
   ]
  },
  {
   "cell_type": "code",
   "execution_count": 1,
   "id": "88765705-36d3-45f1-9e9d-c01865a624e5",
   "metadata": {
    "tags": []
   },
   "outputs": [],
   "source": [
    "import re\n",
    "import csv\n",
    "import time\n",
    "from playwright.async_api import async_playwright\n",
    "from parsel import Selector"
   ]
  },
  {
   "cell_type": "code",
   "execution_count": 2,
   "id": "ceb02063-9b2d-4571-9306-0e6e5b9d94cf",
   "metadata": {
    "tags": []
   },
   "outputs": [],
   "source": [
    "def extract_lat_long(url):\n",
    "    patterns = [\n",
    "        r'@(-?\\d+\\.\\d+),(-?\\d+\\.\\d+)',\n",
    "        r'destination=(-?\\d+\\.\\d+)/(-?\\d+\\.\\d+)',\n",
    "        r'query=(-?\\d+\\.\\d+),(-?\\d+\\.\\d+)'\n",
    "    ]\n",
    "    lat, long = None, None\n",
    "    for pattern in patterns:\n",
    "        match = re.search(pattern, url)\n",
    "        if match:\n",
    "            lat, long = match.groups()\n",
    "            lat, long = float(lat), float(long)\n",
    "            break\n",
    "    return lat, long\n",
    "\n"
   ]
  },
  {
   "cell_type": "code",
   "execution_count": 3,
   "id": "7462a4e3",
   "metadata": {},
   "outputs": [],
   "source": [
    "urls_data = []\n",
    "\n",
    "with open('no-google-map-url.csv', 'r') as f: \n",
    "    reader = csv.DictReader(f)\n",
    "    for row in reader:\n",
    "        _01_category = row['_01_category']\n",
    "        _02_state = row['_02_state']\n",
    "        _03_branch_name = row['_03_branch_name']\n",
    "        _04_address = row['_04_address']\n",
    "        # _05_latitude\n",
    "        # _06_longitude\n",
    "        _07_bank_type = row['_09_bank_type']\n",
    "        _08_mother_bank_name = row['_11_mother_bank_name']\n",
    "\n",
    "        _07_google_map_url = row['_07_google_map_url']\n",
    "\n",
    "        urls_data.append({\n",
    "            \"_01_category\": _01_category,\n",
    "            \"_02_state\": _02_state,\n",
    "            \"_03_branch_name\": _03_branch_name,\n",
    "            \"_04_address\": _04_address,\n",
    "            \"_07_bank_type\": _07_bank_type,\n",
    "            \"_08_mother_bank_name\": _08_mother_bank_name,\n",
    "            \"_07_google_map_url\": _07_google_map_url\n",
    "        })\n"
   ]
  },
  {
   "cell_type": "code",
   "execution_count": 4,
   "id": "b66366f8",
   "metadata": {},
   "outputs": [
    {
     "name": "stdout",
     "output_type": "stream",
     "text": [
      "Processing profile 268..."
     ]
    }
   ],
   "source": [
    "data = []\n",
    "count = 1\n",
    "\n",
    "for row in urls_data:\n",
    "    _01_category = row['_01_category']\n",
    "    _02_state = row['_02_state']\n",
    "    _03_branch_name = row['_03_branch_name']\n",
    "    _04_address = row['_04_address']\n",
    "    _07_bank_type = row['_07_bank_type']\n",
    "    _08_mother_bank_name = row['_08_mother_bank_name']\n",
    "    _07_google_map_url = row['_07_google_map_url']\n",
    "\n",
    "\n",
    "    _05_latitude, _06_longitude = extract_lat_long(_07_google_map_url)\n",
    "\n",
    "\n",
    "    meta_dic = {\n",
    "        \"_01_category\": _01_category,\n",
    "        \"_02_state\": _02_state,\n",
    "        \"_03_branch_name\": _03_branch_name,\n",
    "        \"_04_address\": _04_address,\n",
    "        \"_05_latitude\": _05_latitude,\n",
    "        \"_06_longitude\": _06_longitude,\n",
    "        \"_07_bank_type\": _07_bank_type,\n",
    "        \"_08_mother_bank_name\": _08_mother_bank_name,\n",
    "    }\n",
    "\n",
    "    data.append(meta_dic)\n",
    "\n",
    "    print(f\"\\rProcessing profile {count}...\", end=\"\")\n",
    "    count += 1\n",
    "    "
   ]
  },
  {
   "cell_type": "code",
   "execution_count": 5,
   "id": "7c04808c",
   "metadata": {},
   "outputs": [],
   "source": [
    "csv_filename = 'lat-long-3.csv'\n",
    "\n",
    "field_names = data[0].keys() if data else []\n",
    "with open(csv_filename, 'a', newline='') as file:\n",
    "    writer = csv.DictWriter(file, fieldnames=field_names)\n",
    "    writer.writeheader()\n",
    "    writer.writerows(data)"
   ]
  },
  {
   "cell_type": "code",
   "execution_count": null,
   "id": "8928a306",
   "metadata": {},
   "outputs": [],
   "source": []
  }
 ],
 "metadata": {
  "kernelspec": {
   "display_name": "env",
   "language": "python",
   "name": "python3"
  },
  "language_info": {
   "codemirror_mode": {
    "name": "ipython",
    "version": 3
   },
   "file_extension": ".py",
   "mimetype": "text/x-python",
   "name": "python",
   "nbconvert_exporter": "python",
   "pygments_lexer": "ipython3",
   "version": "3.10.12"
  }
 },
 "nbformat": 4,
 "nbformat_minor": 5
}
