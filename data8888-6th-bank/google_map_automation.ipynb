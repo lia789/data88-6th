{
 "cells": [
  {
   "cell_type": "raw",
   "id": "013c6761-e67d-4059-8eb8-89221ff91fde",
   "metadata": {},
   "source": [
    "\"\"\"\n",
    "Login ID: sakib.all.hanan.0@gmail.com\n",
    "Password: sakib001@Sakib\n",
    "\"\"\""
   ]
  },
  {
   "cell_type": "code",
   "execution_count": 1,
   "id": "88765705-36d3-45f1-9e9d-c01865a624e5",
   "metadata": {
    "tags": []
   },
   "outputs": [],
   "source": [
    "import re\n",
    "import csv\n",
    "import time\n",
    "from playwright.async_api import async_playwright\n",
    "from parsel import Selector"
   ]
  },
  {
   "cell_type": "code",
   "execution_count": 2,
   "id": "ceb02063-9b2d-4571-9306-0e6e5b9d94cf",
   "metadata": {
    "tags": []
   },
   "outputs": [
    {
     "name": "stdout",
     "output_type": "stream",
     "text": [
      "== Code executed ===\n"
     ]
    }
   ],
   "source": [
    "playwright = await async_playwright().start()\n",
    "\n",
    "browser = await playwright.chromium.launch(\n",
    "    headless=False,\n",
    "    channel=\"chrome\",\n",
    "    # slow_mo=500,\n",
    "    args=[\"--disable-blink-features\", \"--disable-blink-features=AutomationControlled\"],\n",
    "    # timeout=0\n",
    ")\n",
    "\n",
    "context = await browser.new_context(\n",
    "    user_agent=\"Mozilla/5.0 (X11; Linux x86_64) AppleWebKit/537.36 (KHTML, like Gecko) Chrome/116.0.0.0 Safari/537.36\",\n",
    ")\n",
    "\n",
    "page = await context.new_page()\n",
    "page.set_default_timeout(10000)\n",
    "\n",
    "\n",
    "def extract_lat_long(url):\n",
    "    pattern = r'@(-?\\d+\\.\\d+),(-?\\d+\\.\\d+)'\n",
    "    match = re.search(pattern, url)\n",
    "    if match:\n",
    "        lat, long = match.groups()\n",
    "        lat, long = float(lat), float(long)\n",
    "        if lat < 3 or long < 101:\n",
    "            return None, None\n",
    "        else:\n",
    "            return lat, long\n",
    "    else:\n",
    "        return None, None\n",
    "\n",
    "print(\"== Code executed ===\")"
   ]
  },
  {
   "cell_type": "code",
   "execution_count": 3,
   "id": "2d2d397e-94a5-4425-b80b-d1b51b95df6a",
   "metadata": {},
   "outputs": [
    {
     "name": "stdout",
     "output_type": "stream",
     "text": [
      "['The Connaught One', 'Radium Adesa Desa East Residences', 'Noora @ Desa ParkCity', 'Sunway Artessa', 'Sfera']\n"
     ]
    }
   ],
   "source": [
    "# Project name reader\n",
    "with open('kuala_lumpur_project_name.csv', 'r') as f:\n",
    "    reader = csv.DictReader(f)\n",
    "    project_names = [row['project_name'] for row in reader]\n",
    "\n",
    "feed_project_name = project_names[0:5]\n",
    "print(feed_project_name)"
   ]
  },
  {
   "cell_type": "code",
   "execution_count": 4,
   "id": "fcda8fea-8624-442b-aa20-39e8b5792708",
   "metadata": {},
   "outputs": [
    {
     "data": {
      "text/plain": [
       "<Response url='https://www.google.com/maps' request=<Request url='https://www.google.com/maps' method='GET'>>"
      ]
     },
     "execution_count": 4,
     "metadata": {},
     "output_type": "execute_result"
    }
   ],
   "source": [
    "await page.goto(\"https://www.google.com/maps\")"
   ]
  },
  {
   "cell_type": "code",
   "execution_count": 5,
   "id": "3a6cfc55-4ae1-408e-a17a-327921a6d7dc",
   "metadata": {},
   "outputs": [],
   "source": [
    "data = []"
   ]
  },
  {
   "cell_type": "code",
   "execution_count": 6,
   "id": "dcb9c99a-f2c2-438c-af12-56f4be431015",
   "metadata": {},
   "outputs": [],
   "source": [
    "for project_name in feed_project_name:\n",
    "    await page.get_by_role(\"textbox\", name=\"Google Maps-এ খুঁজুন\").fill(project_name)\n",
    "    await page.get_by_role(\"button\", name=\"খুঁজুন\").click()\n",
    "    await page.wait_for_timeout(3000)\n",
    "\n",
    "    lat, long = extract_lat_long(page.url)\n",
    "\n",
    "    meta_dic = {\n",
    "        \"_04_Project_Name\": project_name,\n",
    "        \"_31_Latitude\": lat,\n",
    "        \"_32_Longitude\": long\n",
    "    }\n",
    "    data.append(meta_dic)\n",
    "    \n",
    "    \n",
    "    await page.get_by_role(\"button\", name=\"বন্ধ করুন\").click()\n",
    "    await page.wait_for_timeout(200)\n",
    "\n",
    "print(f\"======= loop finish ===========\")"
   ]
  },
  {
   "cell_type": "code",
   "execution_count": null,
   "id": "76a6ed74-9295-40da-bf7f-db69ded3406e",
   "metadata": {},
   "outputs": [],
   "source": [
    "# Save data as CSV file\n",
    "csv_filename = '1.csv'\n",
    "fieldnames = [\n",
    "    \"_04_Project_Name\",\n",
    "    \"_31_Latitude\",\n",
    "    \"_32_Longitude\",\n",
    "]\n",
    "\n",
    "with open(csv_filename, 'a', newline='') as csv_file:\n",
    "    writer = csv.DictWriter(csv_file, fieldnames=fieldnames)\n",
    "    writer.writeheader()\n",
    "    writer.writerows(data)\n",
    "\n",
    "print(\"====Script finish===\")"
   ]
  },
  {
   "cell_type": "code",
   "execution_count": null,
   "id": "ef10cf98-c469-4425-a404-35c6cbaf86f8",
   "metadata": {},
   "outputs": [],
   "source": []
  },
  {
   "cell_type": "code",
   "execution_count": null,
   "id": "26f7c778-3eb3-4c4e-a461-8b549cac504a",
   "metadata": {},
   "outputs": [],
   "source": []
  },
  {
   "cell_type": "code",
   "execution_count": null,
   "id": "266bda57-3e54-4b55-870a-fd7f76589664",
   "metadata": {},
   "outputs": [],
   "source": []
  },
  {
   "cell_type": "code",
   "execution_count": null,
   "id": "e76bd894-4c4b-4c7a-981a-2c317532cc93",
   "metadata": {},
   "outputs": [],
   "source": []
  },
  {
   "cell_type": "raw",
   "id": "42cf11e1-179a-4d7b-9ab5-59136daa0776",
   "metadata": {},
   "source": [
    "------------------------------- Raf"
   ]
  },
  {
   "cell_type": "code",
   "execution_count": null,
   "id": "9f603901-9a99-4712-abc0-d9ce4c9fc65f",
   "metadata": {},
   "outputs": [],
   "source": [
    "from playwright.sync_api import Playwright, sync_playwright, expect\n",
    "\n",
    "\n",
    "def run(playwright: Playwright) -> None:\n",
    "    browser = playwright.chromium.launch(headless=False)\n",
    "    context = browser.new_context()\n",
    "    page = context.new_page()\n",
    "    page.goto(\"https://www.google.com/maps\")\n",
    "    page.goto(\"https://www.google.com/maps/@25.6133918,88.6390693,13z?entry=ttu\")\n",
    "    page.get_by_role(\"textbox\", name=\"Google Maps-এ খুঁজুন\").click()\n",
    "    page.get_by_role(\"textbox\", name=\"Google Maps-এ খুঁজুন\").fill(\"D'Clover Residences\")\n",
    "    page.get_by_label(\"খুঁজুন\", exact=True).click()\n",
    "    page.get_by_role(\"button\", name=\"বন্ধ করুন\").click()\n",
    "    page.get_by_role(\"textbox\", name=\"Google Maps-এ খুঁজুন\").click()\n",
    "    page.get_by_role(\"textbox\", name=\"Google Maps-এ খুঁজুন\").fill(\"Amika Residences\")\n",
    "    page.get_by_role(\"button\", name=\"খুঁজুন\").click()\n",
    "    page.get_by_role(\"button\", name=\"বন্ধ করুন\").click()\n",
    "    page.get_by_role(\"textbox\", name=\"Google Maps-এ খুঁজুন\").click()\n",
    "    page.get_by_role(\"textbox\", name=\"Google Maps-এ খুঁজুন\").fill(\"Jimbaran\")\n",
    "    page.get_by_label(\"দিকনির্দেশ\", exact=True).click()\n",
    "    page.get_by_label(\"দিকনির্দেশ বন্ধ করুন\").click()\n",
    "    page.get_by_role(\"textbox\", name=\"Google Maps-এ খুঁজুন\").press(\"Control+z\")\n",
    "    page.get_by_role(\"textbox\", name=\"Google Maps-এ খুঁজুন\").fill(\"Jimbaran\")\n",
    "    page.get_by_role(\"button\", name=\"খুঁজুন\").click()\n",
    "    page.get_by_role(\"button\", name=\"বন্ধ করুন\").click()\n",
    "    page.get_by_role(\"textbox\", name=\"Google Maps-এ খুঁজুন\").click()\n",
    "    page.get_by_role(\"textbox\", name=\"Google Maps-এ খুঁজুন\").fill(\"Quinton Residences\")\n",
    "    page.get_by_role(\"button\", name=\"খুঁজুন\").click()\n",
    "    page.get_by_role(\"button\", name=\"বন্ধ করুন\").click()\n",
    "\n",
    "    # ---------------------\n",
    "    context.close()\n",
    "    browser.close()\n",
    "\n",
    "\n",
    "with sync_playwright() as playwright:\n",
    "    run(playwright)\n"
   ]
  },
  {
   "cell_type": "code",
   "execution_count": null,
   "id": "599f66e2-3877-48bf-a346-b1f362c109d9",
   "metadata": {},
   "outputs": [],
   "source": []
  },
  {
   "cell_type": "code",
   "execution_count": null,
   "id": "c94c4e06-31ce-438e-b26a-c76284b5a8bf",
   "metadata": {},
   "outputs": [],
   "source": []
  },
  {
   "cell_type": "code",
   "execution_count": null,
   "id": "2b8690b0-1f76-4630-9aab-8db3896f74fe",
   "metadata": {},
   "outputs": [],
   "source": []
  },
  {
   "cell_type": "code",
   "execution_count": null,
   "id": "b5b547ae-d9e7-4447-a90a-6a687ca65144",
   "metadata": {},
   "outputs": [],
   "source": []
  },
  {
   "cell_type": "code",
   "execution_count": null,
   "id": "8f8d7799-68d8-4c5f-a47d-5e6f57522025",
   "metadata": {},
   "outputs": [],
   "source": []
  },
  {
   "cell_type": "code",
   "execution_count": null,
   "id": "28ae6646-f3de-4fa7-958e-c5ffc79f5d3f",
   "metadata": {},
   "outputs": [],
   "source": []
  },
  {
   "cell_type": "code",
   "execution_count": null,
   "id": "6c06ccb9-c967-4095-af54-a79be290cf92",
   "metadata": {},
   "outputs": [],
   "source": []
  },
  {
   "cell_type": "code",
   "execution_count": null,
   "id": "a07092bd-116e-4679-aa45-ee63fca5af74",
   "metadata": {},
   "outputs": [],
   "source": []
  },
  {
   "cell_type": "code",
   "execution_count": null,
   "id": "3fc5c763-8a83-41b6-8117-30206c8771cf",
   "metadata": {},
   "outputs": [],
   "source": []
  },
  {
   "cell_type": "code",
   "execution_count": null,
   "id": "72373b57-5047-4237-997f-9c250c4e9a73",
   "metadata": {},
   "outputs": [],
   "source": []
  },
  {
   "cell_type": "code",
   "execution_count": null,
   "id": "76ccd787",
   "metadata": {
    "tags": []
   },
   "outputs": [],
   "source": [
    "data = []"
   ]
  },
  {
   "cell_type": "code",
   "execution_count": null,
   "id": "961a9c03-890c-44d4-bc80-02360a59d048",
   "metadata": {
    "tags": []
   },
   "outputs": [],
   "source": [
    "next_page_number_count = 0\n",
    "\n",
    "for i in range(28):\n",
    "    count = 0\n",
    "    \n",
    "    for i in range(1,21):\n",
    "        count +=1\n",
    "        print(f\"\\rProcessing profile {count}...\", end=\"\")\n",
    "        xpath = f\"(//div[@class='listing-widget-new']/div)[{i}]\"\n",
    "        button = await page.wait_for_selector(xpath)\n",
    "        await button.click()\n",
    "        await page.wait_for_timeout(800)\n",
    "\n",
    "        html = await page.content()\n",
    "        response = Selector(text=html)\n",
    "\n",
    "\n",
    "        # Xpath code\n",
    "        _01_Building_URL = page.url\n",
    "        condo_address_raw = response.xpath(\"//div[@class='listing-address']//span/text()\").get()\n",
    "        _02_State, _03_Area_V1 = get_state_and_area(condo_address_raw)\n",
    "\n",
    "        _03_Area_V2 = response.xpath(\"normalize-space((//ol[@class='breadcrumb']/li)[4]/a/span/text())\").get()\n",
    "\n",
    "        _04_Project_Name = response.xpath(\"normalize-space(//h1/text())\").get()\n",
    "        _05_Project_Type = response.xpath(\"//h4[contains(text(), 'project type')]/../../td[2]/text()\").get()\n",
    "        _06_Developer =  response.xpath(\"//h4[contains(text(), 'Developer')]/../../td[2]/text()\").get()\n",
    "        _07_Tenure = response.xpath(\"//h4[contains(text(), 'Tenure')]/../../td[2]/text()\").get()\n",
    "        _08_Year = response.xpath(\"//h4[contains(text(), 'Completion Year')]/../../td[2]/text()\").get()\n",
    "        _09_Floors = response.xpath(\"//h4[contains(text(), '# of Floors')]/../../td[2]/text()\").get()\n",
    "        _10_Total_Units = response.xpath(\"//h4[contains(text(), 'Total Units')]/../../td[2]/text()\").get()\n",
    "        _11_Total_Sell = response.xpath(\"//div[@class='sale-rent-units-cta']//a[@data-listing-type='Sale']/@data-units\").get()\n",
    "        _12_Total_Rent = response.xpath(\"//div[@class='sale-rent-units-cta']//a[@data-listing-type='Rent']/@data-units\").get()\n",
    "\n",
    "        sale_range_high = response.xpath(\"(//div[@class='price-overview-widget clearfix']//span[@class='element-label price']/text())[2]\").get()\n",
    "        sale_range_low = response.xpath(\"(//div[@class='price-overview-widget clearfix']//span[@class='element-label price']/text())[1]\").get()\n",
    "        rent_range_low = response.xpath(\"(//div[@class='price-overview-widget clearfix']//span[@class='element-label price']/text())[3]\").get()\n",
    "        rent_range_high = response.xpath(\"(//div[@class='price-overview-widget clearfix']//span[@class='element-label price']/text())[4]\").get()\n",
    "        _13_Sale_Price_Range = f\"{sale_range_low} - {sale_range_high}\"\n",
    "        _14_Rent_Price_Range = f\"{rent_range_low} - {rent_range_high}\"\n",
    "        _15_PSF = response.xpath(\"//h4[contains(text(), 'PSF')]/../../td[2]/text()\").get()\n",
    "    \n",
    "\n",
    "        total_sale_url_raw = response.xpath(\"//div[@class='sale-rent-units-cta']//a[@data-listing-type='Sale']/@href\").get()\n",
    "        total_rent_url_raw = response.xpath(\"//div[@class='sale-rent-units-cta']//a[@data-listing-type='Rent']/@href\").get()\n",
    "\n",
    "        if total_sale_url_raw is not None:\n",
    "            total_sale_url = f\"https://www.propertyguru.com.my{total_sale_url_raw}\"\n",
    "        else:\n",
    "            total_sale_url = None\n",
    "\n",
    "        if total_rent_url_raw is not None:    \n",
    "            total_rent_url = f\"https://www.propertyguru.com.my{total_rent_url_raw}\"\n",
    "        else:\n",
    "            total_rent_url = None\n",
    "\n",
    "        meta_dic = {\n",
    "            \"_01_Building_URL\": _01_Building_URL,\n",
    "            \"_02_State\": _02_State,\n",
    "            \"_03_Area_V1\":_03_Area_V1,\n",
    "            \"_03_Area_V2\": _03_Area_V2,\n",
    "            \"_04_Project_Name\": _04_Project_Name,\n",
    "            \"_05_Project_Type\": _05_Project_Type,\n",
    "            \"_06_Developer\": _06_Developer,\n",
    "            \"_07_Tenure\": _07_Tenure,\n",
    "            \"_08_Year\": holding_only_int(_08_Year),\n",
    "            \"_09_Floors\": holding_only_int(_09_Floors),\n",
    "            \"_10_Total_Units\": holding_only_int(_10_Total_Units),\n",
    "            \"_11_Total_Sell\": _11_Total_Sell,\n",
    "            \"_12_Total_Rent\": _12_Total_Rent,\n",
    "            \"_13_Sale_Price_Range\": psf_clean(_13_Sale_Price_Range),\n",
    "            \"_14_Rent_Price_Range\": psf_clean(_14_Rent_Price_Range),\n",
    "            \"_15_PSF\": psf_clean(_15_PSF),\n",
    "            \"total_sale_url_raw\": total_sale_url,\n",
    "            \"total_rent_url_raw\": total_rent_url,\n",
    "            }\n",
    "        data.append(meta_dic)\n",
    "\n",
    "\n",
    "\n",
    "        await page.go_back()\n",
    "        await page.wait_for_timeout(800)\n",
    "    \n",
    "    try:\n",
    "        await page.get_by_text(\"»\").click()\n",
    "    except:\n",
    "        break"
   ]
  },
  {
   "cell_type": "code",
   "execution_count": null,
   "id": "d12e6705-8a70-48dc-bf5c-2235f3505daf",
   "metadata": {
    "tags": []
   },
   "outputs": [],
   "source": [
    "# Save data as CSV file\n",
    "csv_filename = 'condo_se_v4.csv'\n",
    "fieldnames = [\n",
    "    \"_01_Building_URL\",\n",
    "    \"_02_State\",\n",
    "    \"_03_Area_V1\",\n",
    "    \"_03_Area_V2\",\n",
    "    \"_04_Project_Name\",\n",
    "    \"_05_Project_Type\",\n",
    "    \"_06_Developer\",\n",
    "    \"_07_Tenure\",\n",
    "    \"_08_Year\",\n",
    "    \"_09_Floors\",\n",
    "    \"_10_Total_Units\",\n",
    "    \"_11_Total_Sell\",\n",
    "    \"_12_Total_Rent\",\n",
    "    \"_13_Sale_Price_Range\",\n",
    "    \"_14_Rent_Price_Range\",\n",
    "    \"_15_PSF\",\n",
    "    \"total_sale_url_raw\",\n",
    "    \"total_rent_url_raw\"\n",
    "        ]\n",
    "\n",
    "with open(csv_filename, 'a', newline='') as csv_file:\n",
    "    writer = csv.DictWriter(csv_file, fieldnames=fieldnames)\n",
    "    writer.writeheader()\n",
    "    writer.writerows(data)\n",
    "\n",
    "print(\"====Script finish===\")"
   ]
  },
  {
   "cell_type": "code",
   "execution_count": null,
   "id": "f430f7a6-7811-456e-9921-2b9ad2f66c2a",
   "metadata": {
    "tags": []
   },
   "outputs": [],
   "source": []
  },
  {
   "cell_type": "code",
   "execution_count": null,
   "id": "f4ecfe26-7179-4581-bf5c-7059d4020cfd",
   "metadata": {},
   "outputs": [],
   "source": []
  },
  {
   "cell_type": "code",
   "execution_count": null,
   "id": "8ce3f23f-69a0-47d7-ad57-d990b27070b0",
   "metadata": {},
   "outputs": [],
   "source": []
  },
  {
   "cell_type": "code",
   "execution_count": null,
   "id": "9e37f326-9784-4a99-825d-35ebf9790398",
   "metadata": {},
   "outputs": [],
   "source": [
    "urls = [\n",
    "    \"https://www.propertyguru.com.my/condo/astrum-ampang-17962\",\n",
    "    \"https://www.propertyguru.com.my/condo/ppr-kampung-limau-17955\",\n",
    "    \"https://www.propertyguru.com.my/condo/alaia-titiwangsa-17953\",\n",
    "    \"https://www.propertyguru.com.my/condo/lily-apartment-kuchai-lama-17943\",\n",
    "    \"https://www.propertyguru.com.my/condo/kl-east-east-57-17917\",\n",
    "    \"https://www.propertyguru.com.my/condo/swnk-houze-bukit-bintang-city-centre-17907\",\n",
    "    \"https://www.propertyguru.com.my/condo/river-park-bangsar-south-17901\",\n",
    "    \"https://www.propertyguru.com.my/condo/m-nova-17893\",\n",
    "]"
   ]
  }
 ],
 "metadata": {
  "kernelspec": {
   "display_name": "env",
   "language": "python",
   "name": "env"
  },
  "language_info": {
   "codemirror_mode": {
    "name": "ipython",
    "version": 3
   },
   "file_extension": ".py",
   "mimetype": "text/x-python",
   "name": "python",
   "nbconvert_exporter": "python",
   "pygments_lexer": "ipython3",
   "version": "3.10.12"
  }
 },
 "nbformat": 4,
 "nbformat_minor": 5
}
